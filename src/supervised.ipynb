{
 "cells": [
  {
   "cell_type": "code",
   "execution_count": 1,
   "metadata": {},
   "outputs": [
    {
     "name": "stderr",
     "output_type": "stream",
     "text": [
      "/Users/alessiogandelli/dev/uni/topic-modeling-eval/.venv/lib/python3.9/site-packages/urllib3/__init__.py:34: NotOpenSSLWarning: urllib3 v2 only supports OpenSSL 1.1.1+, currently the 'ssl' module is compiled with 'LibreSSL 2.8.3'. See: https://github.com/urllib3/urllib3/issues/3020\n",
      "  warnings.warn(\n",
      "[nltk_data] Downloading package stopwords to\n",
      "[nltk_data]     /Users/alessiogandelli/nltk_data...\n",
      "[nltk_data]   Package stopwords is already up-to-date!\n",
      "[nltk_data] Downloading package punkt to\n",
      "[nltk_data]     /Users/alessiogandelli/nltk_data...\n",
      "[nltk_data]   Package punkt is already up-to-date!\n",
      "[nltk_data] Downloading package wordnet to\n",
      "[nltk_data]     /Users/alessiogandelli/nltk_data...\n",
      "[nltk_data]   Package wordnet is already up-to-date!\n"
     ]
    }
   ],
   "source": [
    "import sys\n",
    "#sys.path.append(\"/Users/alessiogandelli/dev/internship/BERTopic_evaluation/src/utils\")\n",
    "from supervised import Evaluator\n",
    "from supervised import get_test_dataset\n",
    "import pandas as pd \n",
    "import matplotlib.pyplot as plt\n",
    "import numpy as np\n",
    "import seaborn as sns\n"
   ]
  },
  {
   "cell_type": "markdown",
   "metadata": {},
   "source": [
    "# Prepare Datasets \n",
    "The supervised dataset is a collection of tweets that have been extracted according to their hashtag, in the first exmaple we have bitcoin, ukrainian war, formula1, trump and climatechange. The tweets are in a folder and each topic should be in a jsonl file with the name of the topic. The jsonl data have been ectracted using twarc2.\n",
    "\n",
    "Then two version of the same dataset have been created, one with the original tweets and one with the tweets without the hashtags."
   ]
  },
  {
   "cell_type": "code",
   "execution_count": 2,
   "metadata": {},
   "outputs": [
    {
     "name": "stdout",
     "output_type": "stream",
     "text": [
      "getting dataset\n",
      "getting dataset\n"
     ]
    }
   ],
   "source": [
    "df_simple, df_simple_no_hash = get_test_dataset('/Users/alessiogandelli/dev/uni/topic-modeling-eval/data/simple_supervised/')\n",
    "df_politics, df_politics_no_hash = get_test_dataset('/Users/alessiogandelli/dev/uni/topic-modeling-eval/data/politics_supervised/')\n"
   ]
  },
  {
   "cell_type": "markdown",
   "metadata": {},
   "source": [
    "The evaluator class has a self explanatory name, it is used to evaluate the results of the models. takes in input a dataframe and the name of the model to use to evaluate it. Internally it creates the model and run the evaluation. we can access the results using the accuracy attribute (gsdmm.accuracy for example)"
   ]
  },
  {
   "cell_type": "code",
   "execution_count": 3,
   "metadata": {},
   "outputs": [
    {
     "name": "stdout",
     "output_type": "stream",
     "text": [
      "evaluate GSDMM\n",
      "model  GSDMM\n",
      "iteration  0\n",
      "In stage 0: transferred 742 clusters with 5 clusters populated\n",
      "In stage 1: transferred 317 clusters with 5 clusters populated\n",
      "In stage 2: transferred 141 clusters with 5 clusters populated\n",
      "In stage 3: transferred 116 clusters with 5 clusters populated\n",
      "In stage 4: transferred 63 clusters with 5 clusters populated\n",
      "In stage 5: transferred 60 clusters with 5 clusters populated\n",
      "In stage 6: transferred 48 clusters with 5 clusters populated\n",
      "In stage 7: transferred 61 clusters with 5 clusters populated\n",
      "In stage 8: transferred 56 clusters with 5 clusters populated\n",
      "In stage 9: transferred 51 clusters with 5 clusters populated\n",
      "In stage 10: transferred 53 clusters with 5 clusters populated\n",
      "In stage 11: transferred 71 clusters with 5 clusters populated\n",
      "In stage 12: transferred 79 clusters with 5 clusters populated\n",
      "In stage 13: transferred 91 clusters with 5 clusters populated\n",
      "In stage 14: transferred 71 clusters with 5 clusters populated\n",
      "In stage 15: transferred 80 clusters with 5 clusters populated\n",
      "In stage 16: transferred 63 clusters with 5 clusters populated\n",
      "In stage 17: transferred 43 clusters with 5 clusters populated\n",
      "In stage 18: transferred 39 clusters with 5 clusters populated\n",
      "In stage 19: transferred 27 clusters with 5 clusters populated\n",
      "In stage 20: transferred 28 clusters with 5 clusters populated\n",
      "In stage 21: transferred 32 clusters with 5 clusters populated\n",
      "In stage 22: transferred 28 clusters with 5 clusters populated\n",
      "In stage 23: transferred 34 clusters with 5 clusters populated\n",
      "In stage 24: transferred 32 clusters with 5 clusters populated\n",
      "In stage 25: transferred 36 clusters with 5 clusters populated\n",
      "In stage 26: transferred 36 clusters with 5 clusters populated\n",
      "In stage 27: transferred 23 clusters with 5 clusters populated\n",
      "In stage 28: transferred 28 clusters with 5 clusters populated\n",
      "In stage 29: transferred 36 clusters with 5 clusters populated\n",
      "topic share is too low, proprablt accuracy is not meaningful for  0\n",
      "check the heatmap \n",
      "accuracy  {'min_topic_share': 0.67, 'btc': 0.53, 'climatechange': 0.875, 'war': 0.825, 'trump_stormy': 0.905, 'formula1': 0.8430034129692833}\n",
      "evaluate climatebert/distilroberta-base-climate-f\n",
      "model  bertopic\n",
      "embeddings with bertopic\n"
     ]
    },
    {
     "name": "stderr",
     "output_type": "stream",
     "text": [
      "No sentence-transformers model found with name /Users/alessiogandelli/.cache/torch/sentence_transformers/climatebert_distilroberta-base-climate-f. Creating a new one with MEAN pooling.\n",
      "Some weights of RobertaModel were not initialized from the model checkpoint at /Users/alessiogandelli/.cache/torch/sentence_transformers/climatebert_distilroberta-base-climate-f and are newly initialized: ['roberta.pooler.dense.bias', 'roberta.pooler.dense.weight']\n",
      "You should probably TRAIN this model on a down-stream task to be able to use it for predictions and inference.\n"
     ]
    },
    {
     "name": "stdout",
     "output_type": "stream",
     "text": [
      "iteration  0\n",
      "fitting bertopic model\n",
      "topic share is too low, proprablt accuracy is not meaningful for  0\n",
      "check the heatmap \n",
      "accuracy  {'min_topic_share': 0.52, 'btc': 0.1, 'climatechange': 0.6, 'war': 0.69, 'trump_stormy': 0.845, 'formula1': 0.8703071672354948}\n",
      "evaluate louisbetsch/tweetclassification-bf-model\n",
      "model  bertopic\n",
      "embeddings with bertopic\n",
      "iteration  0\n",
      "fitting bertopic model\n",
      "topic share is too low, proprablt accuracy is not meaningful for  0\n",
      "check the heatmap \n",
      "accuracy  {'min_topic_share': 0.4, 'btc': 0.35, 'climatechange': 0.805, 'war': 0.455, 'trump_stormy': 0.405, 'formula1': 0.3037542662116041}\n",
      "evaluate NMF\n",
      "model  NMF\n",
      "iteration  0\n",
      "fitting NMF model, max_df =  0.95  min_df =  3  ngram_range =  (1, 2)\n",
      "topic share is too low, proprablt accuracy is not meaningful for  0\n",
      "check the heatmap \n",
      "accuracy  {'min_topic_share': 0.58, 'btc': 0.49, 'climatechange': 0.68, 'war': 0.98, 'trump_stormy': 0.995, 'formula1': 1.0}\n",
      "evaluate all-MiniLM-L6-v2\n",
      "model  bertopic\n",
      "embeddings with bertopic\n",
      "iteration  0\n",
      "fitting bertopic model\n",
      "accuracy  {'min_topic_share': 0.95, 'btc': 0.995, 'climatechange': 0.975, 'war': 0.965, 'trump_stormy': 0.99, 'formula1': 0.9795221843003413}\n",
      "evaluate all-mpnet-base-v2\n",
      "model  bertopic\n",
      "embeddings with bertopic\n",
      "iteration  0\n",
      "fitting bertopic model\n",
      "accuracy  {'min_topic_share': 0.9, 'btc': 0.99, 'climatechange': 0.96, 'war': 0.955, 'trump_stormy': 0.99, 'formula1': 0.9488054607508533}\n",
      "evaluate openai\n",
      "model  openai\n",
      "embeddings with openai\n"
     ]
    },
    {
     "name": "stderr",
     "output_type": "stream",
     "text": [
      "huggingface/tokenizers: The current process just got forked, after parallelism has already been used. Disabling parallelism to avoid deadlocks...\n",
      "To disable this warning, you can either:\n",
      "\t- Avoid using `tokenizers` before the fork if possible\n",
      "\t- Explicitly set the environment variable TOKENIZERS_PARALLELISM=(true | false)\n"
     ]
    },
    {
     "name": "stdout",
     "output_type": "stream",
     "text": [
      "iteration  0\n",
      "fitting bertopic model\n",
      "accuracy  {'min_topic_share': 0.95, 'btc': 0.995, 'climatechange': 0.97, 'war': 0.98, 'trump_stormy': 0.985, 'formula1': 0.9829351535836177}\n"
     ]
    }
   ],
   "source": [
    "gsdmm = Evaluator(df_simple, 'GSDMM')\n",
    "climatebert = Evaluator(df_simple, 'climatebert/distilroberta-base-climate-f')\n",
    "tweetclass = Evaluator(df_simple, 'louisbetsch/tweetclassification-bf-model')\n",
    "nmf = Evaluator(df_simple, 'NMF')\n",
    "bert_mini = Evaluator(df_simple, 'all-MiniLM-L6-v2')\n",
    "bert_mpnet = Evaluator(df_simple, 'all-mpnet-base-v2')\n",
    "openai_eval = Evaluator(df_simple, 'openai')"
   ]
  },
  {
   "cell_type": "code",
   "execution_count": 4,
   "metadata": {},
   "outputs": [
    {
     "data": {
      "image/png": "[encoded data removed]",
      "text/plain": [
       "<Figure size 1000x500 with 1 Axes>"
      ]
     },
     "metadata": {},
     "output_type": "display_data"
    }
   ],
   "source": [
    "models = {'bert mini': bert_mini.accuracy[0]['accuracy'],'bert mpnet': bert_mpnet.accuracy[0]['accuracy'], 'nmf': nmf.accuracy[0]['accuracy'], 'gsdmm': gsdmm.accuracy[0]['accuracy']}\n",
    "Evaluator.compare_models(models)"
   ]
  }
 ],
 "metadata": {
  "kernelspec": {
   "display_name": ".venv",
   "language": "python",
   "name": "python3"
  },
  "language_info": {
   "codemirror_mode": {
    "name": "ipython",
    "version": 3
   },
   "file_extension": ".py",
   "mimetype": "text/x-python",
   "name": "python",
   "nbconvert_exporter": "python",
   "pygments_lexer": "ipython3",
   "version": "3.9.6"
  }
 },
 "nbformat": 4,
 "nbformat_minor": 2
}
